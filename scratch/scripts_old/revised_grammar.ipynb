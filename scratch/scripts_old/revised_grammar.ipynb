{
 "cells": [
  {
   "cell_type": "code",
   "execution_count": null,
   "id": "fa819dec",
   "metadata": {},
   "outputs": [],
   "source": [
    "import nltk\n",
    "from nltk import CFG"
   ]
  },
  {
   "cell_type": "markdown",
   "id": "d1fc111f",
   "metadata": {},
   "source": [
    "## Original English Grammar \n",
    "\n",
    "C -> S 'and' S  \n",
    "C -> S 'after' S  \n",
    "C -> S  \n",
    "S -> V 'twice'  \n",
    "S -> V 'thrice'  \n",
    "S -> V  \n",
    "V -> D 'opposite' D  \n",
    "V -> D 'around' D  \n",
    "V -> D  \n",
    "V -> U  \n",
    "D -> U 'left'  \n",
    "D -> U 'right'  \n",
    "D -> 'turn' 'left'  \n",
    "D -> 'turn' 'right'  \n",
    "U -> 'walk'  \n",
    "U -> 'look'  \n",
    "U -> 'run'  \n",
    "U -> 'jump'  \n",
    "\n",
    "## Adapted English Grammar (no mixed rules)\n",
    "\n",
    "C -> S AND S | S AFTER S | S  \n",
    "S -> VTIMES | V  \n",
    "V -> D | U | D OPPOSITE D | D AROUND D  \n",
    "D -> U LEFT | U RIGHT | TL | TR  \n",
    "U -> 'walk' | 'look' | 'run' | 'jump'  \n",
    "AND -> 'and'   \n",
    "AFTER -> 'after'  \n",
    "OPPOSITE -> 'opposite'  \n",
    "AROUND -> 'around'  \n",
    "TIMES -> 'twice' | 'thrice'  \n",
    "DO -> 'opposite' | 'around'  \n",
    "LEFT ->  'left'  \n",
    "RIGHT -> 'right'  \n",
    "TL -> 'turn' 'left'  \n",
    "TR -> 'turn' 'right'  \n",
    "\n",
    "\n",
    "## French Grammar (no mixed rules) \n",
    "\n",
    "C -> S ET S | S APRES S | S  \n",
    "S -> VFOIS | V  \n",
    "V -> D | U | D EN FACE D | D AUTOUR D  \n",
    "D -> U DROITE | U GAUCHE | TG | TD  \n",
    "U -> 'marcher' | 'regarder'| 'courir'| 'sauter'  \n",
    "AND -> 'et'  \n",
    "AFTER -> 'après'  \n",
    "OPPOSITE -> 'en face'  \n",
    "AROUND -> 'autour'   \n",
    "RIGHT -> \"à droite\"  \n",
    "LEFT -> \"à gauche\"   \n",
    "TG -> 'tourner' 'à gauche'  \n",
    "TD -> 'tourner' 'à droite'  \n"
   ]
  },
  {
   "cell_type": "code",
   "execution_count": null,
   "id": "2b2664b2",
   "metadata": {},
   "outputs": [],
   "source": [
    "grammar_en = CFG.fromstring(\"\"\"\n",
    "C -> S AND S | S AFTER S | S \n",
    "S -> VT \n",
    "V -> DO\n",
    "D -> UL | UR | TL | TR\n",
    "AND -> 'and' \n",
    "AFTER -> 'after'\n",
    "U -> 'walk' | 'look' | 'run' | 'jump'\n",
    "VT -> 'twice' | 'thrice'\n",
    "DO -> 'opposite' | 'around'\n",
    "UL -> U 'left'\n",
    "UR -> U 'right'\n",
    "TL -> 'turn' 'left'\n",
    "TR -> 'turn' 'right'\"\"\")"
   ]
  },
  {
   "cell_type": "code",
   "execution_count": null,
   "id": "2253fdb7",
   "metadata": {},
   "outputs": [],
   "source": [
    "grammar_fr = CFG.fromstring(\"\"\"\n",
    "\n",
    "C -> S ET S | S APRES S | S \n",
    "S -> VT \n",
    "V -> \n",
    "D -> UL | UR | TL | TR \n",
    "ET -> 'et'\n",
    "APRES -> 'après'\n",
    "U -> 'marcher' | 'regarder' | 'courir' | 'sauter'\n",
    "VT -> 'deux fois'| 'trois fois'\n",
    "DO -> 'en face' | 'autour'\n",
    "UL -> U 'à gauche'\n",
    "UR -> U 'à droite'\n",
    "TL -> 'tourner' 'à gauche'\n",
    "TR -> 'tourner' 'à droite'\n",
    "\n",
    "\n",
    "\"\"\")"
   ]
  },
  {
   "cell_type": "code",
   "execution_count": null,
   "id": "c8fe243a",
   "metadata": {},
   "outputs": [],
   "source": [
    "from nltk.parse import RecursiveDescentParser\n",
    "parser_en = RecursiveDescentParser(grammar_en)"
   ]
  }
 ],
 "metadata": {
  "kernelspec": {
   "display_name": "Python 3 (ipykernel)",
   "language": "python",
   "name": "python3"
  },
  "language_info": {
   "codemirror_mode": {
    "name": "ipython",
    "version": 3
   },
   "file_extension": ".py",
   "mimetype": "text/x-python",
   "name": "python",
   "nbconvert_exporter": "python",
   "pygments_lexer": "ipython3",
   "version": "3.10.6"
  }
 },
 "nbformat": 4,
 "nbformat_minor": 5
}
