{
 "cells": [
  {
   "cell_type": "code",
   "execution_count": 1,
   "id": "4c3415ae",
   "metadata": {},
   "outputs": [],
   "source": [
    "import nltk\n",
    "from nltk import CFG"
   ]
  },
  {
   "cell_type": "code",
   "execution_count": 32,
   "id": "62252ca2",
   "metadata": {},
   "outputs": [],
   "source": [
    "grammar_en = CFG.fromstring(\"\"\"\n",
    "C -> S 'and' S \n",
    "C -> S 'after' S \n",
    "C -> S\n",
    "S -> V 'twice' \n",
    "S -> V 'thrice'\n",
    "S -> V \n",
    "V -> D 'opposite' D\n",
    "V -> D 'around' D\n",
    "V -> D \n",
    "V -> U \n",
    "D -> U 'left' \n",
    "D -> U 'right' \n",
    "D -> 'turn' 'left' \n",
    "D -> 'turn' 'right' \n",
    "U -> 'walk' \n",
    "U -> 'look' \n",
    "U -> 'run' \n",
    "U -> 'jump'\n",
    "\"\"\")\n",
    "\n",
    "grammar_fr = CFG.fromstring(\"\"\"\n",
    "C -> S 'et' S \n",
    "C -> S 'après' S \n",
    "C -> S\n",
    "S -> V 'deux' 'fois' \n",
    "S -> V 'trois' 'fois'\n",
    "S -> V \n",
    "V -> D 'à' 'l' 'opposé' D\n",
    "V -> D 'en' 'cercle' D\n",
    "V -> D \n",
    "V -> U \n",
    "D -> U 'à' 'gauche' \n",
    "D -> U 'à' 'droite' \n",
    "D -> 'tourner' 'à' 'gauche' \n",
    "D -> 'tourner' 'à' 'droite' \n",
    "U -> 'marcher' \n",
    "U -> 'regarder' \n",
    "U -> 'courir' \n",
    "U -> 'sauter'\n",
    "\"\"\")"
   ]
  },
  {
   "cell_type": "code",
   "execution_count": 59,
   "id": "a3f2e0e2",
   "metadata": {},
   "outputs": [],
   "source": [
    "grammar_en = CFG.fromstring(\"\"\"\n",
    "C -> S AND S | S AFTER S | S \n",
    "S -> V T | V \n",
    "V -> D O D | D\n",
    "D -> U | UL | UR | TL | TR\n",
    "AND -> 'and' \n",
    "AFTER -> 'after'\n",
    "U -> 'walk' | 'look' | 'run' | 'jump'\n",
    "T -> 'twice' | 'thrice'\n",
    "O -> 'opposite' | 'around'\n",
    "UL -> U 'left'\n",
    "UR -> U 'right'\n",
    "TL -> 'turn' 'left'\n",
    "TR -> 'turn' 'right'\n",
    "\"\"\")\n",
    "\n",
    "grammar_fr = CFG.fromstring(\"\"\"\n",
    "\n",
    "C -> S ET S | S APRES S | S \n",
    "S -> V T | V\n",
    "V -> D O D | D \n",
    "D ->  U | UL | UR | TL | TR \n",
    "ET -> 'et'\n",
    "APRES -> 'après'\n",
    "U -> 'marcher' | 'regarder' | 'courir' | 'sauter'\n",
    "T -> 'deux' 'fois'| 'trois' 'fois'\n",
    "O -> 'en' 'face' | 'autour'\n",
    "UL -> U 'à' 'gauche'\n",
    "UR -> U 'à' 'droite'\n",
    "TL -> 'tourner' 'à' 'gauche'\n",
    "TR -> 'tourner' 'à' 'droite'\n",
    "\"\"\")"
   ]
  },
  {
   "cell_type": "code",
   "execution_count": 55,
   "id": "0234dc8a",
   "metadata": {},
   "outputs": [],
   "source": [
    "from nltk.parse import RecursiveDescentParser\n",
    "parser_en = RecursiveDescentParser(grammar_en)\n",
    "parser_fr = RecursiveDescentParser(grammar_fr)"
   ]
  },
  {
   "cell_type": "code",
   "execution_count": 47,
   "id": "c4630ed0",
   "metadata": {},
   "outputs": [
    {
     "data": {
      "text/plain": [
       "<generator object RecursiveDescentParser._parse at 0x1203529d0>"
      ]
     },
     "execution_count": 47,
     "metadata": {},
     "output_type": "execute_result"
    }
   ],
   "source": [
    "parser_en.parse(\"turn left and walk\".split())"
   ]
  },
  {
   "cell_type": "code",
   "execution_count": 48,
   "id": "0ed50890",
   "metadata": {},
   "outputs": [
    {
     "name": "stdout",
     "output_type": "stream",
     "text": [
      "(C (S (V (D (TL turn left)))) (AND and) (S (V (D (U walk)))))\n"
     ]
    }
   ],
   "source": [
    "for t in parser_en.parse(\"turn left and walk\".split()):\n",
    "    print(t)"
   ]
  },
  {
   "cell_type": "code",
   "execution_count": 49,
   "id": "6d775d4b",
   "metadata": {},
   "outputs": [],
   "source": [
    "from nltk.parse.generate import generate, demo_grammar\n",
    "from nltk import CFG"
   ]
  },
  {
   "cell_type": "code",
   "execution_count": 50,
   "id": "b2903ea1",
   "metadata": {},
   "outputs": [],
   "source": [
    "from random import sample\n",
    "\n",
    "def generate_sample(grammar, n, sample_size):\n",
    "    indices = set(sample(range(1, n), sample_size))\n",
    "    for i, example in enumerate(generate(grammar, n=n)):\n",
    "        if i in indices:\n",
    "            yield example\n"
   ]
  },
  {
   "cell_type": "code",
   "execution_count": 56,
   "id": "200d403c",
   "metadata": {},
   "outputs": [
    {
     "data": {
      "text/plain": [
       "[['marcher',\n",
       "  'en face',\n",
       "  'marcher',\n",
       "  'deux',\n",
       "  'fois',\n",
       "  'et',\n",
       "  'sauter',\n",
       "  'à',\n",
       "  'gauche',\n",
       "  'autour',\n",
       "  'marcher',\n",
       "  'deux',\n",
       "  'fois'],\n",
       " ['marcher',\n",
       "  'en face',\n",
       "  'marcher',\n",
       "  'deux',\n",
       "  'fois',\n",
       "  'et',\n",
       "  'sauter',\n",
       "  'à',\n",
       "  'gauche',\n",
       "  'autour',\n",
       "  'regarder',\n",
       "  'trois',\n",
       "  'fois'],\n",
       " ['marcher',\n",
       "  'en face',\n",
       "  'marcher',\n",
       "  'deux',\n",
       "  'fois',\n",
       "  'et',\n",
       "  'tourner',\n",
       "  'à',\n",
       "  'gauche',\n",
       "  'en face',\n",
       "  'marcher',\n",
       "  'à',\n",
       "  'gauche',\n",
       "  'trois',\n",
       "  'fois'],\n",
       " ['marcher',\n",
       "  'en face',\n",
       "  'marcher',\n",
       "  'deux',\n",
       "  'fois',\n",
       "  'et',\n",
       "  'sauter',\n",
       "  'à',\n",
       "  'droite',\n",
       "  'en face',\n",
       "  'marcher',\n",
       "  'à',\n",
       "  'droite'],\n",
       " ['marcher',\n",
       "  'en face',\n",
       "  'marcher',\n",
       "  'trois',\n",
       "  'fois',\n",
       "  'et',\n",
       "  'marcher',\n",
       "  'en face',\n",
       "  'regarder',\n",
       "  'à',\n",
       "  'gauche',\n",
       "  'trois',\n",
       "  'fois'],\n",
       " ['marcher',\n",
       "  'en face',\n",
       "  'marcher',\n",
       "  'trois',\n",
       "  'fois',\n",
       "  'et',\n",
       "  'regarder',\n",
       "  'à',\n",
       "  'gauche',\n",
       "  'en face',\n",
       "  'regarder',\n",
       "  'trois',\n",
       "  'fois'],\n",
       " ['marcher',\n",
       "  'en face',\n",
       "  'regarder',\n",
       "  'deux',\n",
       "  'fois',\n",
       "  'et',\n",
       "  'regarder',\n",
       "  'en face',\n",
       "  'marcher',\n",
       "  'à',\n",
       "  'gauche',\n",
       "  'trois',\n",
       "  'fois'],\n",
       " ['marcher',\n",
       "  'en face',\n",
       "  'regarder',\n",
       "  'deux',\n",
       "  'fois',\n",
       "  'et',\n",
       "  'courir',\n",
       "  'en face',\n",
       "  'regarder',\n",
       "  'à',\n",
       "  'droite',\n",
       "  'deux',\n",
       "  'fois'],\n",
       " ['marcher',\n",
       "  'en face',\n",
       "  'regarder',\n",
       "  'deux',\n",
       "  'fois',\n",
       "  'et',\n",
       "  'regarder',\n",
       "  'à',\n",
       "  'gauche',\n",
       "  'autour',\n",
       "  'regarder',\n",
       "  'à',\n",
       "  'gauche',\n",
       "  'trois',\n",
       "  'fois'],\n",
       " ['marcher',\n",
       "  'en face',\n",
       "  'regarder',\n",
       "  'deux',\n",
       "  'fois',\n",
       "  'et',\n",
       "  'sauter',\n",
       "  'à',\n",
       "  'droite',\n",
       "  'en face',\n",
       "  'courir',\n",
       "  'trois',\n",
       "  'fois']]"
      ]
     },
     "execution_count": 56,
     "metadata": {},
     "output_type": "execute_result"
    }
   ],
   "source": [
    "sample_sentences = generate_sample(grammar_fr, 3570, 10)\n",
    "list(sample_sentences)\n"
   ]
  },
  {
   "cell_type": "code",
   "execution_count": 60,
   "id": "9f1b5831",
   "metadata": {},
   "outputs": [
    {
     "data": {
      "text/plain": [
       "[]"
      ]
     },
     "execution_count": 60,
     "metadata": {},
     "output_type": "execute_result"
    }
   ],
   "source": [
    "[parser_fr.parse(sentence) for sentence in sample_sentences]"
   ]
  },
  {
   "cell_type": "code",
   "execution_count": 61,
   "id": "b85e95c5",
   "metadata": {},
   "outputs": [
    {
     "name": "stdout",
     "output_type": "stream",
     "text": [
      "(C (S (V (D (U sauter))) (T deux fois)))\n"
     ]
    }
   ],
   "source": [
    "for t in parser_fr.parse(\"sauter deux fois\".split()):\n",
    "    print(t)"
   ]
  },
  {
   "cell_type": "code",
   "execution_count": 62,
   "id": "120bb65a",
   "metadata": {
    "scrolled": true
   },
   "outputs": [
    {
     "name": "stdout",
     "output_type": "stream",
     "text": [
      "[Tree('C', [Tree('S', [Tree('V', [Tree('D', [Tree('U', ['marcher'])])]), Tree('T', ['deux', 'fois'])]), Tree('ET', ['et']), Tree('S', [Tree('V', [Tree('D', [Tree('UL', [Tree('U', ['sauter']), 'à', 'gauche'])])]), Tree('T', ['trois', 'fois'])])])]\n"
     ]
    }
   ],
   "source": [
    "parse_tree = parser_fr.parse(['marcher', 'deux', 'fois', 'et', 'sauter', 'à', 'gauche', 'trois', 'fois'])\n",
    "\n",
    "print(list(parse_tree))"
   ]
  },
  {
   "cell_type": "markdown",
   "id": "233cf311",
   "metadata": {},
   "source": [
    "This is the old code for function with non adapted grammar "
   ]
  },
  {
   "cell_type": "code",
   "execution_count": null,
   "id": "9f8ae062",
   "metadata": {},
   "outputs": [],
   "source": [
    "'''from ntlk import Tree\n",
    "\n",
    "def translate_en_fr(tree_en):\n",
    "    label = tree_en.label()\n",
    "    if label == 'C':\n",
    "        if len(tree_en) == 3 and tree_en[1] == 'and':\n",
    "            return Tree('S', [translate_en_fr(tree_en[0]), \"et\", 'S', translate_en_fr(tree_en[2])])\n",
    "        if len(tree_en) == 3 and tree_en[1] == 'after':\n",
    "            return Tree('S', [translate_en_fr(tree_en[0]), \"après\", 'S', translate_en_fr(tree_en[2])])\n",
    "        else return Tree('S', [translate_en_fr(tree_en[0])])\n",
    "    \n",
    "    if label == 'S':\n",
    "        if len(tree_en) == 2 and tree_en[1] == 'twice':\n",
    "            return Tree('V', [translate_en_fr(tree_en[0]), \"deux fois\"])\n",
    "        if len(tree_en) == 2 and tree_en[1] == 'thrice':\n",
    "            return Tree('V', [translate_en_fr(tree_en[0]), \"trois fois\"])\n",
    "        else retrun Tree('V', [translate_en_fr(tree_en[0])])\n",
    "        \n",
    "    if label == 'V':\n",
    "        if len(tree_en) == 3 and tree_en[1] == 'opposite':\n",
    "            return Tree('D', [translate_en__fr(tree_en[0]), \"à l'opposé\", translate_en_fr(tree_en[2])])\n",
    "        if len(tree_en) == 3 and tree_en[1] == 'around':\n",
    "            return Tree('D', [translate_en_fr(tree_en[0]), \"en cercle\", translate_en_fr(tree_en[2])])\n",
    "        else return Tree('D', [translate_en_fr(tree_en[0])])\n",
    "                              \n",
    "                              \n",
    "    if label == 'D':\n",
    "        if len(tree_en) == 2 and tree_en[1] == 'left':\n",
    "            return Tree('U', [translate_en_fr(tree_en[0]), \"à gauche\"])\n",
    "        if len(tree_en) == 2 and tree_en[1] == \"right\":\n",
    "            return Tree('U', [translate_en_fr(tree_en[0]), \"à droite\"])\n",
    "        \n",
    "        if len(tree_en) == 3 and tree_en[2] = 'left':\n",
    "            return Tree('U', [translate_en_fr(tree_en[0]), \"tourner à gauche\"])\n",
    "        if len(tree_en) == 3 and tree_en[2] == 'right':\n",
    "            return Tree('U', [translate_en_fr(tree_en[0]), \"tourner à droite\"])\n",
    "        \n",
    "    if label == 'U':\n",
    "        if tree_en['0'] == 'walk':\n",
    "            return Tree('U',\"marcher\")\n",
    "        if tree_en['0'] == 'look':\n",
    "            return Tree('U', \"regarder\")\n",
    "        if tree_en['0'] == 'run':\n",
    "            return Tree('U', \"courir\")\n",
    "        if tree_en['0'] == 'jump':\n",
    "            return Tree('U', \"sauter\")\n",
    "        '''"
   ]
  },
  {
   "cell_type": "markdown",
   "id": "80fd6708",
   "metadata": {},
   "source": [
    "Now, use new grammar (adapted with no mixed rules) to do the translation function "
   ]
  },
  {
   "cell_type": "code",
   "execution_count": 63,
   "id": "05c19f28",
   "metadata": {},
   "outputs": [],
   "source": [
    "from nltk import Tree\n",
    "\n",
    "\n",
    "def translate_EN_FR(tree_en):\n",
    "    word_mapping = {\n",
    "        \"walk\" : \"marcher\",\n",
    "        \"look\" : \"regarder\",\n",
    "        \"run\"  : \"courir\",\n",
    "        \"jump\" : \"sauter\",\n",
    "        \"and\": \"et\",\n",
    "        \"after\": \"après\",\n",
    "        \"opposite\": \"en face\", \n",
    "        \"around\": \"autour\",\n",
    "        \"right\": \"à droite\",\n",
    "        \"left\": \"à gauche\",\n",
    "        \"turn\": \"tourner\"\n",
    "        \n",
    "    }\n",
    "    label = tree_en.label()\n",
    "    if label in set([\"C\", \"S\", \"V\", \"D\"]):\n",
    "        return Tree(label, [translate_EN_FR(nt) for nt in tree_en])\n",
    "    else:\n",
    "        return Tree(label, [word_mapping[word] for word in tree_en])\n"
   ]
  },
  {
   "cell_type": "code",
   "execution_count": 64,
   "id": "78193d6c",
   "metadata": {},
   "outputs": [
    {
     "name": "stdout",
     "output_type": "stream",
     "text": [
      "[Tree('C', [Tree('S', [Tree('V', [Tree('D', [Tree('U', ['marcher'])])]), Tree('T', ['deux', 'fois'])]), Tree('ET', ['et']), Tree('S', [Tree('V', [Tree('D', [Tree('UL', [Tree('U', ['sauter']), 'à', 'gauche'])])]), Tree('T', ['trois', 'fois'])])])]\n"
     ]
    }
   ],
   "source": [
    "FR_sentence = \"Sauter et courir à droite\"\n",
    "\n",
    "parse_tree = parser_fr.parse(['marcher', 'deux', 'fois', 'et', 'sauter', 'à', 'gauche', 'trois', 'fois'])\n",
    "\n",
    "print(list(parse_tree))"
   ]
  },
  {
   "cell_type": "code",
   "execution_count": 65,
   "id": "435e4f59",
   "metadata": {},
   "outputs": [
    {
     "name": "stdout",
     "output_type": "stream",
     "text": [
      "(C (S (V (D (TL turn left)))) (AND and) (S (V (D (U walk)))))\n"
     ]
    }
   ],
   "source": [
    "parse_tree_en = parser_en.parse(\"turn left and walk\".split())\n",
    "for t in parse_tree_en:\n",
    "    print(t)"
   ]
  },
  {
   "cell_type": "code",
   "execution_count": 66,
   "id": "d3c74f63",
   "metadata": {},
   "outputs": [
    {
     "name": "stdout",
     "output_type": "stream",
     "text": [
      "(C (S (V (D (TL turn left)))) (AND and) (S (V (D (U walk)))))\n",
      "(C\n",
      "  (S (V (D (TL tourner à gauche))))\n",
      "  (AND et)\n",
      "  (S (V (D (U marcher)))))\n"
     ]
    }
   ],
   "source": [
    "parse_tree_en = parser_en.parse(\"turn left and walk\".split())\n",
    "\n",
    "for t in parse_tree_en:\n",
    "    print(t)\n",
    "    print(translate_EN_FR(t))"
   ]
  },
  {
   "cell_type": "code",
   "execution_count": null,
   "id": "3a41e764",
   "metadata": {},
   "outputs": [],
   "source": []
  }
 ],
 "metadata": {
  "kernelspec": {
   "display_name": "Python 3 (ipykernel)",
   "language": "python",
   "name": "python3"
  },
  "language_info": {
   "codemirror_mode": {
    "name": "ipython",
    "version": 3
   },
   "file_extension": ".py",
   "mimetype": "text/x-python",
   "name": "python",
   "nbconvert_exporter": "python",
   "pygments_lexer": "ipython3",
   "version": "3.10.6"
  }
 },
 "nbformat": 4,
 "nbformat_minor": 5
}
